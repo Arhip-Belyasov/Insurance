{
  "nbformat": 4,
  "nbformat_minor": 0,
  "metadata": {
    "colab": {
      "provenance": []
    },
    "kernelspec": {
      "name": "python3",
      "display_name": "Python 3"
    },
    "language_info": {
      "name": "python"
    }
  },
  "cells": [
    {
      "cell_type": "markdown",
      "source": [
        "# Лабораторная работа №3"
      ],
      "metadata": {
        "id": "Csr4a5aBytzS"
      }
    },
    {
      "cell_type": "markdown",
      "source": [
        "## Определение исходных данных"
      ],
      "metadata": {
        "id": "yl1ft26My33L"
      }
    },
    {
      "cell_type": "code",
      "source": [
        "import numpy as np\n",
        "\n",
        "from scipy.stats import laplace\n",
        "from scipy.optimize import brentq"
      ],
      "metadata": {
        "id": "RrvI-CXmyg5R"
      },
      "execution_count": null,
      "outputs": []
    },
    {
      "cell_type": "code",
      "execution_count": null,
      "metadata": {
        "id": "ePxKFmmSyCQH"
      },
      "outputs": [],
      "source": [
        "data = np.array([54.48, 56.57, 56.74, 56.88, 57.64, 62.05, 63.97, 64.60, 67.28, 70.29])\n",
        "probabilities = ([0.022, 0.044, 0.078, 0.116, 0.147, 0.160, 0.147, 0.116, 0.078, 0.093])"
      ]
    },
    {
      "cell_type": "code",
      "source": [
        "n = 10000\n",
        "years = 102\n",
        "H0 = 0.13\n",
        "p1 = 0.92\n",
        "p2 = 0.96"
      ],
      "metadata": {
        "id": "osJe7af7y1FO"
      },
      "execution_count": null,
      "outputs": []
    },
    {
      "cell_type": "markdown",
      "source": [
        "## Выполнение работы\n"
      ],
      "metadata": {
        "id": "UqJMQ4kby6_e"
      }
    },
    {
      "cell_type": "code",
      "source": [
        "def find_t(epsilon):\n",
        "  \"\"\"\n",
        "  Находит параметр t для заданной вероятности разорения компании.\n",
        "\n",
        "  Args:\n",
        "    epsilon: вероятность разорения компании\n",
        "\n",
        "  Returns:\n",
        "    параметр t\n",
        "  \"\"\"\n",
        "  def func(t):\n",
        "    return 1 - laplace.cdf(t) - 2 * epsilon\n",
        "\n",
        "  # Находим корень уравнения 1 - Ф(t) = 2ε\n",
        "  t = brentq(func, 0, 10)\n",
        "\n",
        "  return t"
      ],
      "metadata": {
        "id": "dJT_hRKh2VMb"
      },
      "execution_count": null,
      "outputs": []
    },
    {
      "cell_type": "code",
      "source": [
        "risk_premium = np.dot(data, probabilities)"
      ],
      "metadata": {
        "id": "EXqUdRLAy-Zh"
      },
      "execution_count": null,
      "outputs": []
    },
    {
      "cell_type": "code",
      "source": [
        "std = np.sqrt(np.sum(data**2 * probabilities) - risk_premium**2)"
      ],
      "metadata": {
        "id": "VicFBwCn4b3e"
      },
      "execution_count": null,
      "outputs": []
    },
    {
      "cell_type": "code",
      "source": [
        "epsilon = 1 / years"
      ],
      "metadata": {
        "id": "L9Ho26tm0m4u"
      },
      "execution_count": null,
      "outputs": []
    },
    {
      "cell_type": "code",
      "source": [
        "t = find_t(epsilon)"
      ],
      "metadata": {
        "id": "EvjMqeFJ0o-Q"
      },
      "execution_count": null,
      "outputs": []
    },
    {
      "cell_type": "code",
      "source": [
        "risk_premium = t * std"
      ],
      "metadata": {
        "id": "JUsI_7zL2YfI"
      },
      "execution_count": null,
      "outputs": []
    },
    {
      "cell_type": "code",
      "source": [
        "net_premium = risk_premium + risk_premium"
      ],
      "metadata": {
        "id": "9kUb7Kk-4-ba"
      },
      "execution_count": null,
      "outputs": []
    },
    {
      "cell_type": "code",
      "source": [
        "insurance_premium = net_premium / (1 - H0)"
      ],
      "metadata": {
        "id": "VVMx9HGH5J0X"
      },
      "execution_count": null,
      "outputs": []
    },
    {
      "cell_type": "code",
      "source": [
        "m_2"
      ],
      "metadata": {
        "colab": {
          "base_uri": "https://localhost:8080/"
        },
        "id": "nwEOvHV16h2O",
        "outputId": "0ac34281-e60e-42f0-c23d-99fff1dad1b5"
      },
      "execution_count": null,
      "outputs": [
        {
          "output_type": "execute_result",
          "data": {
            "text/plain": [
              "21.0"
            ]
          },
          "metadata": {},
          "execution_count": 33
        }
      ]
    },
    {
      "cell_type": "code",
      "source": [
        "epsilon1 = 1 - p1\n",
        "t1 = find_t(epsilon1)\n",
        "\n",
        "m_1 = np.round(risk_premium + t1 * std)\n",
        "\n",
        "loss_profit = np.round(insurance_premium * n - risk_premium * m_1)"
      ],
      "metadata": {
        "id": "NK3GvmJT5m3_"
      },
      "execution_count": null,
      "outputs": []
    },
    {
      "cell_type": "code",
      "source": [
        "epsilon2 = 1 - p2\n",
        "t2 = find_t(epsilon2)\n",
        "\n",
        "m_2 = np.round(risk_premium + t2 * std)\n",
        "\n",
        "high_profit = np.round(insurance_premium * n - risk_premium * m_2)"
      ],
      "metadata": {
        "id": "AVfiH9bf6voT"
      },
      "execution_count": null,
      "outputs": []
    },
    {
      "cell_type": "code",
      "source": [
        "print(f\"Данная страховая компания с надежностью {p1} (вероятность разорения не чаще, чем 1 раз в 100 лет) может рассчитывать на:\")\n",
        "print(f\"- Прибыль {loss_profit} у.е.\")\n",
        "print(f\"- Прибыль {high_profit} у.е. с вероятностью выживания {p2}.\")"
      ],
      "metadata": {
        "colab": {
          "base_uri": "https://localhost:8080/"
        },
        "id": "wYaBdM487Ho4",
        "outputId": "892ef0c7-cad4-4173-da99-cdb111636b9b"
      },
      "execution_count": null,
      "outputs": [
        {
          "output_type": "stream",
          "name": "stdout",
          "text": [
            "Данная страховая компания с надежностью 0.92 (вероятность разорения не чаще, чем 1 раз в 100 лет) может рассчитывать на:\n",
            "- Прибыль 302826.0 у.е.\n",
            "- Прибыль 302786.0 у.е. с вероятностью выживания 0.96.\n"
          ]
        }
      ]
    },
    {
      "cell_type": "code",
      "source": [],
      "metadata": {
        "id": "JrBO9fxN8kdC"
      },
      "execution_count": null,
      "outputs": []
    }
  ]
}